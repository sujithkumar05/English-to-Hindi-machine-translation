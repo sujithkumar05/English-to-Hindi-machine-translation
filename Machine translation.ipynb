{
 "cells": [
  {
   "cell_type": "markdown",
   "metadata": {},
   "source": [
    "## Team members \n",
    "1. Sai Hruthik Gangapuram \n",
    "2. Sujith Kumar Gajarla"
   ]
  },
  {
   "cell_type": "markdown",
   "metadata": {},
   "source": [
    "# Task 1: Importing packages"
   ]
  },
  {
   "cell_type": "code",
   "execution_count": 1,
   "metadata": {},
   "outputs": [],
   "source": [
    "import re\n",
    "import torch\n",
    "import random\n",
    "import pandas as pd\n",
    "import torch.nn as nn\n",
    "from torch.utils.data import Dataset\n",
    "from torch.utils.data import DataLoader\n",
    "from torch.nn.utils.rnn import pad_sequence\n",
    "from sklearn.model_selection import train_test_split\n",
    "device = 'cpu'"
   ]
  },
  {
   "cell_type": "markdown",
   "metadata": {},
   "source": [
    "# Task 2: Data Loading"
   ]
  },
  {
   "cell_type": "code",
   "execution_count": 2,
   "metadata": {},
   "outputs": [
    {
     "data": {
      "text/html": [
       "<div>\n",
       "<style scoped>\n",
       "    .dataframe tbody tr th:only-of-type {\n",
       "        vertical-align: middle;\n",
       "    }\n",
       "\n",
       "    .dataframe tbody tr th {\n",
       "        vertical-align: top;\n",
       "    }\n",
       "\n",
       "    .dataframe thead th {\n",
       "        text-align: right;\n",
       "    }\n",
       "</style>\n",
       "<table border=\"1\" class=\"dataframe\">\n",
       "  <thead>\n",
       "    <tr style=\"text-align: right;\">\n",
       "      <th></th>\n",
       "      <th>English</th>\n",
       "      <th>Hindi</th>\n",
       "    </tr>\n",
       "  </thead>\n",
       "  <tbody>\n",
       "    <tr>\n",
       "      <th>0</th>\n",
       "      <td>Yale offers advanced degrees through its Gradu...</td>\n",
       "      <td>येल अपने ग्रेजुएट स्कूल ऑफ आर्ट्स एंड साइंसेज ...</td>\n",
       "    </tr>\n",
       "    <tr>\n",
       "      <th>1</th>\n",
       "      <td>Browse the organizations below for information...</td>\n",
       "      <td>अध्ययन के कार्यक्रमों, शैक्षणिक आवश्यकताओं और ...</td>\n",
       "    </tr>\n",
       "    <tr>\n",
       "      <th>2</th>\n",
       "      <td>Graduate School of Arts &amp; Sciences.</td>\n",
       "      <td>ग्रेजुएट स्कूल ऑफ आर्ट्स एंड साइंसेज।</td>\n",
       "    </tr>\n",
       "    <tr>\n",
       "      <th>3</th>\n",
       "      <td>Yale’s Graduate School of Arts &amp; Sciences offe...</td>\n",
       "      <td>येल के ग्रेजुएट स्कूल ऑफ आर्ट्स एंड साइंसेज एम...</td>\n",
       "    </tr>\n",
       "    <tr>\n",
       "      <th>4</th>\n",
       "      <td>School of Architecture.</td>\n",
       "      <td>स्कूल ऑफ आर्किटेक्चर।</td>\n",
       "    </tr>\n",
       "    <tr>\n",
       "      <th>5</th>\n",
       "      <td>The Yale School of Architecture’s mandate is f...</td>\n",
       "      <td>येल स्कूल ऑफ आर्किटेक्चर का जनादेश प्रत्येक छा...</td>\n",
       "    </tr>\n",
       "  </tbody>\n",
       "</table>\n",
       "</div>"
      ],
      "text/plain": [
       "                                             English  \\\n",
       "0  Yale offers advanced degrees through its Gradu...   \n",
       "1  Browse the organizations below for information...   \n",
       "2                Graduate School of Arts & Sciences.   \n",
       "3  Yale’s Graduate School of Arts & Sciences offe...   \n",
       "4                            School of Architecture.   \n",
       "5  The Yale School of Architecture’s mandate is f...   \n",
       "\n",
       "                                               Hindi  \n",
       "0  येल अपने ग्रेजुएट स्कूल ऑफ आर्ट्स एंड साइंसेज ...  \n",
       "1  अध्ययन के कार्यक्रमों, शैक्षणिक आवश्यकताओं और ...  \n",
       "2              ग्रेजुएट स्कूल ऑफ आर्ट्स एंड साइंसेज।  \n",
       "3  येल के ग्रेजुएट स्कूल ऑफ आर्ट्स एंड साइंसेज एम...  \n",
       "4                              स्कूल ऑफ आर्किटेक्चर।  \n",
       "5  येल स्कूल ऑफ आर्किटेक्चर का जनादेश प्रत्येक छा...  "
      ]
     },
     "execution_count": 2,
     "metadata": {},
     "output_type": "execute_result"
    }
   ],
   "source": [
    "data_frame = pd.read_excel('dataset.xlsx')\n",
    "data_frame.head(6)"
   ]
  },
  {
   "cell_type": "markdown",
   "metadata": {},
   "source": [
    "# Task 3: Data preprocessing\n",
    "1. Word to Index\n",
    "2. Index to word\n",
    "3. Word counts\n",
    "4. Normailizing the sentence"
   ]
  },
  {
   "cell_type": "code",
   "execution_count": 3,
   "metadata": {},
   "outputs": [],
   "source": [
    "SOS_token = 0\n",
    "EOS_token = 1\n",
    "\n",
    "class Lang:\n",
    "    def __init__(self, name):\n",
    "        self.name = name\n",
    "        self.word2index = { \"SOS\": SOS_token, \"EOS\": EOS_token }\n",
    "        self.word2count = {}\n",
    "        self.index2word = { SOS_token: \"SOS\", EOS_token: \"EOS\" }\n",
    "        self.n_words = 2  # Count SOS and EOS\n",
    "\n",
    "    def addSentence(self, sentence):\n",
    "        for word in sentence.split(' '):\n",
    "            self.addWord(word)\n",
    "\n",
    "    def addWord(self, word):\n",
    "        if word not in self.word2index:\n",
    "            self.word2index[word] = self.n_words\n",
    "            self.word2count[word] = 1\n",
    "            self.index2word[self.n_words] = word\n",
    "            self.n_words += 1\n",
    "        else:\n",
    "            self.word2count[word] += 1"
   ]
  },
  {
   "cell_type": "code",
   "execution_count": 4,
   "metadata": {},
   "outputs": [
    {
     "data": {
      "text/html": [
       "<div>\n",
       "<style scoped>\n",
       "    .dataframe tbody tr th:only-of-type {\n",
       "        vertical-align: middle;\n",
       "    }\n",
       "\n",
       "    .dataframe tbody tr th {\n",
       "        vertical-align: top;\n",
       "    }\n",
       "\n",
       "    .dataframe thead th {\n",
       "        text-align: right;\n",
       "    }\n",
       "</style>\n",
       "<table border=\"1\" class=\"dataframe\">\n",
       "  <thead>\n",
       "    <tr style=\"text-align: right;\">\n",
       "      <th></th>\n",
       "      <th>English</th>\n",
       "      <th>Hindi</th>\n",
       "    </tr>\n",
       "  </thead>\n",
       "  <tbody>\n",
       "    <tr>\n",
       "      <th>0</th>\n",
       "      <td>yale offers advanced degrees through its gradu...</td>\n",
       "      <td>येल अपने ग्रेजुएट स्कूल ऑफ आर्ट्स एंड साइंसेज ...</td>\n",
       "    </tr>\n",
       "    <tr>\n",
       "      <th>1</th>\n",
       "      <td>browse the organizations below for information...</td>\n",
       "      <td>अध्ययन के कार्यक्रमों , शैक्षणिक आवश्यकताओं और...</td>\n",
       "    </tr>\n",
       "    <tr>\n",
       "      <th>2</th>\n",
       "      <td>graduate school of arts &amp; sciences</td>\n",
       "      <td>ग्रेजुएट स्कूल ऑफ आर्ट्स एंड साइंसेज।</td>\n",
       "    </tr>\n",
       "    <tr>\n",
       "      <th>3</th>\n",
       "      <td>yale’s graduate school of arts &amp; sciences offe...</td>\n",
       "      <td>येल के ग्रेजुएट स्कूल ऑफ आर्ट्स एंड साइंसेज एम...</td>\n",
       "    </tr>\n",
       "    <tr>\n",
       "      <th>4</th>\n",
       "      <td>school of architecture</td>\n",
       "      <td>स्कूल ऑफ आर्किटेक्चर।</td>\n",
       "    </tr>\n",
       "  </tbody>\n",
       "</table>\n",
       "</div>"
      ],
      "text/plain": [
       "                                             English  \\\n",
       "0  yale offers advanced degrees through its gradu...   \n",
       "1  browse the organizations below for information...   \n",
       "2                graduate school of arts & sciences    \n",
       "3  yale’s graduate school of arts & sciences offe...   \n",
       "4                            school of architecture    \n",
       "\n",
       "                                               Hindi  \n",
       "0  येल अपने ग्रेजुएट स्कूल ऑफ आर्ट्स एंड साइंसेज ...  \n",
       "1  अध्ययन के कार्यक्रमों , शैक्षणिक आवश्यकताओं और...  \n",
       "2              ग्रेजुएट स्कूल ऑफ आर्ट्स एंड साइंसेज।  \n",
       "3  येल के ग्रेजुएट स्कूल ऑफ आर्ट्स एंड साइंसेज एम...  \n",
       "4                              स्कूल ऑफ आर्किटेक्चर।  "
      ]
     },
     "execution_count": 4,
     "metadata": {},
     "output_type": "execute_result"
    }
   ],
   "source": [
    "def normalizeString(sentence):\n",
    "    sentence = sentence.lower().strip()\n",
    "    sentence = sentence.replace('\\xa0', ' ')\n",
    "    sentence = re.sub(r\"([,.!?])\", r\" \\1\", sentence)\n",
    "    sentence = re.sub(r\"[.!?]+\", r\"\", sentence)\n",
    "    return sentence\n",
    "data_frame['English'] = data_frame['English'].apply(lambda sentence: normalizeString(sentence))\n",
    "data_frame['Hindi'] = data_frame['Hindi'].apply(lambda sentence: normalizeString(sentence))\n",
    "data_frame.head(5)"
   ]
  },
  {
   "cell_type": "code",
   "execution_count": 5,
   "metadata": {},
   "outputs": [],
   "source": [
    "def readLangs(data_frame):\n",
    "    pairs = [list(lang_pair) for index, lang_pair in data_frame.iterrows()]\n",
    "    input_lang = Lang('English')\n",
    "    output_lang = Lang('Hindi')\n",
    "    return input_lang, output_lang, pairs"
   ]
  },
  {
   "cell_type": "code",
   "execution_count": 6,
   "metadata": {},
   "outputs": [
    {
     "name": "stdout",
     "output_type": "stream",
     "text": [
      "Read 129 sentence pairs\n",
      "Counting words...\n",
      "Counted words:\n",
      "English 533\n",
      "Hindi 598\n",
      "['access to high quality patient‐centered health care is a social right , not a privilege ', 'उच्च गुणवत्ता वाले रोगी-केंद्रित स्वास्थ्य देखभाल तक पहुंच एक सामाजिक अधिकार है , विशेषाधिकार नहीं।']\n"
     ]
    }
   ],
   "source": [
    "def prepareData(data_frame):\n",
    "    input_lang, output_lang, pairs = readLangs(data_frame)\n",
    "    print(\"Read %s sentence pairs\" % len(pairs))\n",
    "    print(\"Counting words...\")\n",
    "    for pair in pairs:\n",
    "        input_lang.addSentence(pair[0])\n",
    "        output_lang.addSentence(pair[1])\n",
    "    print(\"Counted words:\")\n",
    "    print(input_lang.name, input_lang.n_words)\n",
    "    print(output_lang.name, output_lang.n_words)\n",
    "    return input_lang, output_lang, pairs\n",
    "input_lang, output_lang, pairs = prepareData(data_frame)\n",
    "print(random.choice(pairs))"
   ]
  },
  {
   "cell_type": "code",
   "execution_count": 7,
   "metadata": {},
   "outputs": [
    {
     "data": {
      "text/plain": [
       "'organizations'"
      ]
     },
     "execution_count": 7,
     "metadata": {},
     "output_type": "execute_result"
    }
   ],
   "source": [
    "input_lang.index2word[21]# index to word example in input language"
   ]
  },
  {
   "cell_type": "code",
   "execution_count": 8,
   "metadata": {},
   "outputs": [
    {
     "data": {
      "text/plain": [
       "'ने'"
      ]
     },
     "execution_count": 8,
     "metadata": {},
     "output_type": "execute_result"
    }
   ],
   "source": [
    "output_lang.index2word[89]# index to word example in output language"
   ]
  },
  {
   "cell_type": "markdown",
   "metadata": {},
   "source": [
    "# Task 4 : Creating Custom Dataset "
   ]
  },
  {
   "cell_type": "code",
   "execution_count": 9,
   "metadata": {},
   "outputs": [],
   "source": [
    "class CustomDataset(Dataset):\n",
    "    \n",
    "    def __init__(self, df):\n",
    "        self.df=df\n",
    "        \n",
    "    def __len__(self):\n",
    "        return len(self.df)\n",
    "    \n",
    "    def indexesFromSentence(self, lang, sentence):\n",
    "        return [lang.word2index[word] for word in sentence.split(' ')]\n",
    "    \n",
    "    def tensorFromSentence(self, lang, sentence):\n",
    "        indexes = self.indexesFromSentence(lang, sentence)\n",
    "        indexes.append(EOS_token)\n",
    "        return torch.tensor(indexes, dtype=torch.long, device=device)\n",
    "    \n",
    "    def __getitem__(self ,idx):\n",
    "        languages = self.df.iloc[idx]\n",
    "        input_tensor = self.tensorFromSentence(input_lang, languages['English'])\n",
    "        target_tensor = self.tensorFromSentence(output_lang, languages['Hindi'])\n",
    "        return input_tensor, target_tensor, languages['English'], languages['Hindi']"
   ]
  },
  {
   "cell_type": "markdown",
   "metadata": {},
   "source": [
    "# Task 5: Spliting the dataset into training | testing| validation"
   ]
  },
  {
   "cell_type": "code",
   "execution_count": 10,
   "metadata": {},
   "outputs": [],
   "source": [
    "training_data, testing_data = train_test_split(data_frame, test_size=0.2, random_state=42)\n",
    "\n",
    "validation_data, testing_data = train_test_split(testing_data, test_size=0.5, random_state=42)"
   ]
  },
  {
   "cell_type": "code",
   "execution_count": 11,
   "metadata": {},
   "outputs": [],
   "source": [
    "train_data_set = CustomDataset(training_data)\n",
    "valid_data_set = CustomDataset(validation_data)\n",
    "test_data_set = CustomDataset(testing_data)"
   ]
  },
  {
   "cell_type": "code",
   "execution_count": 12,
   "metadata": {},
   "outputs": [
    {
     "name": "stdout",
     "output_type": "stream",
     "text": [
      "Size of Training dataset: 103\n",
      "Size of Testing dataset: 13\n",
      "Size of Validation dataset: 13\n"
     ]
    }
   ],
   "source": [
    "print('Size of Training dataset: {}'.format(train_data_set.__len__()))\n",
    "print('Size of Testing dataset: {}'.format(test_data_set.__len__()))\n",
    "print('Size of Validation dataset: {}'.format(valid_data_set.__len__()))"
   ]
  },
  {
   "cell_type": "code",
   "execution_count": 20,
   "metadata": {},
   "outputs": [
    {
     "data": {
      "text/plain": [
       "(tensor([368,  78, 344, 369, 164, 366,  42, 370, 371,  18,   1]),\n",
       " tensor([420, 258, 217,  30, 195, 413,  53, 421, 251, 358, 171,   1]),\n",
       " 'we have been expanding international collaborations in many areas ',\n",
       " 'हम कई क्षेत्रों में अंतरराष्ट्रीय सहयोग का विस्तार कर रहे हैं।')"
      ]
     },
     "execution_count": 20,
     "metadata": {},
     "output_type": "execute_result"
    }
   ],
   "source": [
    "train_data_set[50]# sample"
   ]
  },
  {
   "cell_type": "markdown",
   "metadata": {},
   "source": [
    "# Task 6: Loading dataset into Batches"
   ]
  },
  {
   "cell_type": "code",
   "execution_count": 14,
   "metadata": {},
   "outputs": [],
   "source": [
    "def collate_fn(batch):\n",
    "    batch = sorted(batch, key=lambda x: len(x[0]), reverse=True)\n",
    "    input_seqs, target_seqs, input_language, out_language = zip(*batch)\n",
    "    # Pad the input sequences with zeros\n",
    "    padded_input = pad_sequence(input_seqs, batch_first=True)\n",
    "    # Pad the target sequences with zeros\n",
    "    padded_target = pad_sequence(target_seqs, batch_first=True)\n",
    "    return padded_input, padded_target, input_language, out_language"
   ]
  },
  {
   "cell_type": "code",
   "execution_count": 15,
   "metadata": {},
   "outputs": [],
   "source": [
    "train_loader = DataLoader(train_data_set, batch_size=8, shuffle=True, collate_fn=collate_fn)\n",
    "\n",
    "val_loader = DataLoader(valid_data_set, batch_size=8, shuffle=True, collate_fn=collate_fn)\n",
    "\n",
    "test_loader = DataLoader(test_data_set, batch_size=8, shuffle=True, collate_fn=collate_fn)"
   ]
  },
  {
   "cell_type": "code",
   "execution_count": 16,
   "metadata": {},
   "outputs": [
    {
     "name": "stdout",
     "output_type": "stream",
     "text": [
      "Total number of batches in train data loader: 13\n",
      "Total number of batches in test data loader: 2\n",
      "Total number of batches in validation data loader: 2\n"
     ]
    }
   ],
   "source": [
    "print('Total number of batches in train data loader: {}'.format(len(train_loader)))\n",
    "print('Total number of batches in test data loader: {}'.format(len(test_loader)))\n",
    "print('Total number of batches in validation data loader: {}'.format(len(val_loader)))"
   ]
  },
  {
   "cell_type": "markdown",
   "metadata": {},
   "source": [
    "# Task 7: Displaying 1st sample in each batch"
   ]
  },
  {
   "cell_type": "markdown",
   "metadata": {},
   "source": [
    "### Train data loader"
   ]
  },
  {
   "cell_type": "code",
   "execution_count": 23,
   "metadata": {
    "scrolled": false
   },
   "outputs": [
    {
     "name": "stdout",
     "output_type": "stream",
     "text": [
      "\u001b[1mTraining Batch number-----> 1\u001b[0m\n",
      "Input Language: interested applicants must apply directly to the school , college , or program where the degree will be awarded \n",
      "Input Tensor Shape: torch.Size([21])\n",
      "Input Tensor: tensor([272, 273, 274, 275, 276,  35,  20,   9,  28, 277,  28, 213, 278, 279,\n",
      "         20, 280, 281, 269, 282,  18,   1])\n",
      "Output Language: इच्छुक आवेदकों को सीधे स्कूल , कॉलेज या कार्यक्रम में आवेदन करना होगा जहां डिग्री प्रदान की जाएगी।\n",
      "Output Tensor Shape: torch.Size([22])\n",
      "Output Tensor: tensor([313, 314,  37, 315,   5,  24, 316, 239,  47,  30, 317, 175, 318, 319,\n",
      "         18,  19, 129, 320,   1,   0,   0,   0])\n",
      "------------------------------------------------------------------------------------------------------------\n",
      "\n",
      "\n",
      "\u001b[1mTraining Batch number-----> 2\u001b[0m\n",
      "Input Language: the yale school of architecture’s mandate is for each student to understand architecture as a creative , productive , innovative , and responsible practice \n",
      "Input Tensor Shape: torch.Size([26])\n",
      "Input Tensor: tensor([20,  2,  9, 10, 46, 47, 48, 23, 49, 50, 35, 51, 45, 52, 37, 53, 28, 54,\n",
      "        28, 55, 28, 14, 56, 57, 18,  1])\n",
      "Output Language: येल स्कूल ऑफ आर्किटेक्चर का जनादेश प्रत्येक छात्र के लिए एक रचनात्मक , उत्पादक , अभिनव और जिम्मेदार अभ्यास के रूप में वास्तुकला को समझने के लिए है।\n",
      "Output Tensor Shape: torch.Size([29])\n",
      "Output Tensor: tensor([ 2,  5,  6, 52, 53, 54, 55, 56, 14, 32, 57, 58, 24, 59, 24, 60, 10, 61,\n",
      "        62, 14, 63, 30, 64, 37, 65, 14, 32, 21,  1])\n",
      "------------------------------------------------------------------------------------------------------------\n",
      "\n",
      "\n",
      "\u001b[1mTraining Batch number-----> 3\u001b[0m\n",
      "Input Language: yale offers advanced degrees through its graduate school of arts & sciences and 13 professional schools \n",
      "Input Tensor Shape: torch.Size([18])\n",
      "Input Tensor: tensor([ 2,  3,  4,  5,  6,  7,  8,  9, 10, 11, 12, 13, 14, 15, 16, 17, 18,  1])\n",
      "Output Language: येल अपने ग्रेजुएट स्कूल ऑफ आर्ट्स एंड साइंसेज और 13 पेशेवर स्कूलों के माध्यम से उन्नत डिग्री प्रदान करता है।\n",
      "Output Tensor Shape: torch.Size([21])\n",
      "Output Tensor: tensor([ 2,  3,  4,  5,  6,  7,  8,  9, 10, 11, 12, 13, 14, 15, 16, 17, 18, 19,\n",
      "        20, 21,  1])\n",
      "------------------------------------------------------------------------------------------------------------\n",
      "\n",
      "\n",
      "\u001b[1mTraining Batch number-----> 4\u001b[0m\n",
      "Input Language: yale center for british art to the peabody museum of natural history and numerous smaller collections , are integral parts of teaching and open to the public \n",
      "Input Tensor Shape: torch.Size([29])\n",
      "Input Tensor: tensor([  2, 240,  23, 241,  58,  35,  20, 242, 243,  10, 244,  62,  14, 230,\n",
      "        245, 204,  28, 144, 246, 247,  10, 186,  14, 248,  35,  20, 139,  18,\n",
      "          1])\n",
      "Output Language: प्राकृतिक इतिहास के पीबॉडी संग्रहालय के लिए येल सेंटर फॉर ब्रिटिश आर्ट और कई छोटे संग्रह , शिक्षण के अभिन्न अंग हैं और जनता के लिए खुले हैं।\n",
      "Output Tensor Shape: torch.Size([29])\n",
      "Output Tensor: tensor([273,  74,  14, 274, 275,  14,  32,   2, 276, 277, 278,  67,  10, 258,\n",
      "        279, 280,  24, 213,  14, 281, 282, 283,  10, 284,  14,  32, 285, 171,\n",
      "          1])\n",
      "------------------------------------------------------------------------------------------------------------\n",
      "\n",
      "\n",
      "\u001b[1mTraining Batch number-----> 5\u001b[0m\n",
      "Input Language: the yale school of engineering & applied science is at the cutting edge of research to develop technologies that address global societal problems \n",
      "Input Tensor Shape: torch.Size([25])\n",
      "Input Tensor: tensor([ 20,   2,   9,  10,  93,  12,  94,  95,  48,  96,  20,  97,  98,  10,\n",
      "         32,  35,  99, 100,  88, 101, 102, 103, 104,  18,   1])\n",
      "Output Language: येल स्कूल ऑफ इंजीनियरिंग एंड एप्लाइड साइंस वैश्विक सामाजिक समस्याओं का समाधान करने वाली प्रौद्योगिकियों को विकसित करने के लिए अनुसंधान के अत्याधुनिक रूप में है।\n",
      "Output Tensor Shape: torch.Size([27])\n",
      "Output Tensor: tensor([  2,   5,   6, 109,   8, 110, 112, 113, 114, 115,  53, 116, 117, 118,\n",
      "        119,  37, 120, 117,  14,  32,  28,  14, 121,  63,  30,  21,   1])\n",
      "------------------------------------------------------------------------------------------------------------\n",
      "\n",
      "\n",
      "\u001b[1mTraining Batch number-----> 6\u001b[0m\n",
      "Input Language: yale’s international research , teaching , and learning activities are undertaken in a wide variety of centers and programs across all academic fields \n",
      "Input Tensor Shape: torch.Size([25])\n",
      "Input Tensor: tensor([ 33, 164,  32,  28, 186,  28,  14, 187, 188, 144, 189,  42,  37, 190,\n",
      "        191,  10, 192,  14,  26, 193, 194,  29, 195,  18,   1])\n",
      "Output Language: येल के अंतरराष्ट्रीय अनुसंधान , शिक्षण और सीखने की गतिविधियां सभी शैक्षणिक क्षेत्रों में विभिन्न प्रकार के केंद्रों और कार्यक्रमों में की जाती हैं।\n",
      "Output Tensor Shape: torch.Size([25])\n",
      "Output Tensor: tensor([  2,  14, 195,  28,  24, 213,  10, 214, 129, 215, 216,  25, 217,  30,\n",
      "        218, 219,  14, 220,  10,  23,  30, 129, 221, 171,   1])\n",
      "------------------------------------------------------------------------------------------------------------\n",
      "\n",
      "\n",
      "\u001b[1mTraining Batch number-----> 7\u001b[0m\n",
      "Input Language: search this site to discover the range of yale’s international centers and initiatives , study abroad and exchange programs , collections , and galleries \n",
      "Input Tensor Shape: torch.Size([26])\n",
      "Input Tensor: tensor([196, 197, 198,  35, 199,  20, 200,  10,  33, 164, 192,  14, 201,  28,\n",
      "         27, 202,  14, 203,  26,  28, 204,  28,  14, 205,  18,   1])\n",
      "Output Language: येल के अंतरराष्ट्रीय केंद्रों और पहलों की श्रेणी , विदेश में अध्ययन और विनिमय कार्यक्रमों , संग्रहों और दीर्घाओं की खोज के लिए इस साइट को खोजें।\n",
      "Output Tensor Shape: torch.Size([28])\n",
      "Output Tensor: tensor([  2,  14, 195, 220,  10, 222, 129, 223,  24, 224,  30,  22,  10, 225,\n",
      "         23,  24, 226,  10, 227, 129, 228,  14,  32, 229, 230,  37, 231,   1])\n",
      "------------------------------------------------------------------------------------------------------------\n",
      "\n",
      "\n",
      "\u001b[1mTraining Batch number-----> 8\u001b[0m\n",
      "Input Language: yale is known for its residential college system , which provides students with a supportive community and numerous opportunities for social and intellectual engagement \n",
      "Input Tensor Shape: torch.Size([26])\n",
      "Input Tensor: tensor([  2,  48, 460,  23,   7, 506, 277, 507,  28, 254, 508, 142, 211,  37,\n",
      "        509, 171,  14, 230, 137,  23, 178,  14, 510, 377,  18,   1])\n",
      "Output Language: येल अपनी आवासीय कॉलेज प्रणाली के लिए जाना जाता है , जो छात्रों को एक सहायक समुदाय और सामाजिक और बौद्धिक जुड़ाव के कई अवसर प्रदान करता है।\n",
      "Output Tensor Shape: torch.Size([29])\n",
      "Output Tensor: tensor([  2, 324, 572, 316, 573,  14,  32, 521, 245, 106,  24, 102, 261,  37,\n",
      "         57, 574, 308,  10, 114,  10, 575, 427,  14, 258, 163,  19,  20,  21,\n",
      "          1])\n",
      "------------------------------------------------------------------------------------------------------------\n",
      "\n",
      "\n",
      "\u001b[1mTraining Batch number-----> 9\u001b[0m\n",
      "Input Language: i am particularly excited about the growing number of faculty-led collaborations between yale and universities across the world \n",
      "Input Tensor Shape: torch.Size([20])\n",
      "Input Tensor: tensor([359, 360, 361, 362, 363,  20, 364, 315,  10, 365, 366, 367,   2,  14,\n",
      "        316, 193,  20,  82,  18,   1])\n",
      "Output Language: मैं दुनिया भर में येल और विश्वविद्यालयों के बीच संकाय-नेतृत्व वाले सहयोग की बढ़ती संख्या को लेकर विशेष रूप से उत्साहित हूं।\n",
      "Output Tensor Shape: torch.Size([23])\n",
      "Output Tensor: tensor([410,  98, 211,  30,   2,  10, 359,  14, 411, 412, 199, 413, 129, 414,\n",
      "        415,  37, 416, 417,  63,  16, 418, 419,   1])\n",
      "------------------------------------------------------------------------------------------------------------\n",
      "\n",
      "\n",
      "\u001b[1mTraining Batch number-----> 10\u001b[0m\n",
      "Input Language: yale summer session offers academically rigorous and innovative undergraduate programs and courses open to visiting students from around the world \n",
      "Input Tensor Shape: torch.Size([22])\n",
      "Input Tensor: tensor([  2, 296, 297,   3, 298, 299,  14,  55, 283,  26,  14, 300, 248,  35,\n",
      "        301, 142, 238,  81,  20,  82,  18,   1])\n",
      "Output Language: येल समर सेशन दुनिया भर से आने वाले छात्रों के लिए अकादमिक रूप से कठोर और अभिनव स्नातक कार्यक्रम और पाठ्यक्रम प्रदान करता है।\n",
      "Output Tensor Shape: torch.Size([25])\n",
      "Output Tensor: tensor([  2, 333, 334,  98, 211,  16, 335, 199, 261,  14,  32, 336,  63,  16,\n",
      "        337,  10,  60, 181,  47,  10, 338,  19,  20,  21,   1])\n",
      "------------------------------------------------------------------------------------------------------------\n",
      "\n",
      "\n",
      "\u001b[1mTraining Batch number-----> 11\u001b[0m\n",
      "Input Language: the university is committed to providing financial aid to students who need it , with over half of undergraduates receiving some form of financial assistance \n",
      "Input Tensor Shape: torch.Size([27])\n",
      "Input Tensor: tensor([ 20, 207,  48, 145,  35, 500, 287, 294,  35, 142, 341, 501, 306,  28,\n",
      "        211, 227, 502,  10, 503, 504, 318, 505,  10, 287, 220,  18,   1])\n",
      "Output Language: विश्वविद्यालय उन छात्रों को वित्तीय सहायता प्रदान करने के लिए प्रतिबद्ध है , जिन्हें इसकी आवश्यकता है , आधे से अधिक अंडरग्रेजुएट किसी न किसी रूप में वित्तीय सहायता प्राप्त करते हैं।\n",
      "Output Tensor Shape: torch.Size([33])\n",
      "Output Tensor: tensor([232, 388, 261,  37, 323, 249,  19, 117,  14,  32, 170, 106,  24, 567,\n",
      "        568, 569, 106,  24, 570,  16, 256, 321, 371, 571, 371,  63,  30, 323,\n",
      "        249, 250, 179, 171,   1])\n",
      "------------------------------------------------------------------------------------------------------------\n",
      "\n",
      "\n",
      "\u001b[1mTraining Batch number-----> 12\u001b[0m\n",
      "Input Language: yale’s graduate school of arts & sciences offers programs leading to m a  , m s  , m phil  , and ph d  degrees in 73 departments and programs \n",
      "Input Tensor Shape: torch.Size([35])\n",
      "Input Tensor: tensor([33,  8,  9, 10, 11, 12, 13,  3, 26, 34, 35, 36, 37, 18, 28, 36, 38, 18,\n",
      "        28, 36, 39, 18, 28, 14, 40, 41, 18,  5, 42, 43, 44, 14, 26, 18,  1])\n",
      "Output Language: येल के ग्रेजुएट स्कूल ऑफ आर्ट्स एंड साइंसेज एमए , एमएस , एम फिल , और पीएचडी के लिए अग्रणी कार्यक्रम प्रदान करता है। 73 विभागों और कार्यक्रमों में डिग्री।\n",
      "Output Tensor Shape: torch.Size([31])\n",
      "Output Tensor: tensor([ 2, 14,  4,  5,  6,  7,  8,  9, 41, 24, 42, 24, 43, 44, 24, 10, 45, 14,\n",
      "        32, 46, 47, 19, 20, 21, 48, 49, 10, 23, 30, 50,  1])\n",
      "------------------------------------------------------------------------------------------------------------\n",
      "\n",
      "\n",
      "\u001b[1mTraining Batch number-----> 13\u001b[0m\n",
      "Input Language: students , scholars , and faculty have access to over 15 million volumes as well as digital databases , and a variety of research tools \n",
      "Input Tensor Shape: torch.Size([27])\n",
      "Input Tensor: tensor([142,  28,  69,  28,  14,  31,  78, 174,  35, 227, 231, 232, 233,  52,\n",
      "        214,  52, 234, 235,  28,  14,  37, 191,  10,  32, 236,  18,   1])\n",
      "Output Language: छात्रों , विद्वानों और फैकल्टी के पास 15 मिलियन से अधिक संस्करणों के साथ-साथ डिजिटल डेटाबेस और विभिन्न प्रकार के शोध उपकरण हैं।\n",
      "Output Tensor Shape: torch.Size([24])\n",
      "Output Tensor: tensor([261,  24,  79,  10, 166,  14, 262, 263, 264,  16, 256, 265,  14, 241,\n",
      "        266, 267,  10, 218, 219,  14, 268, 269, 171,   1])\n",
      "------------------------------------------------------------------------------------------------------------\n",
      "\n",
      "\n"
     ]
    }
   ],
   "source": [
    "for batch_index, packed in enumerate(train_loader):\n",
    "    input_tensors, output_tensors, input_language, out_language = packed\n",
    "    print(\"\\033[1mTraining Batch number-----> {}\\033[0m\".format(batch_index+1))\n",
    "    # print the first input and output tensors along with their respective languages\n",
    "    print(\"Input Language:\", input_language[0])\n",
    "    print(\"Input Tensor Shape:\", input_tensors[0].shape)\n",
    "    print(\"Input Tensor:\", input_tensors[0])\n",
    "    \n",
    "    print(\"Output Language:\", out_language[0])\n",
    "    print(\"Output Tensor Shape:\", output_tensors[0].shape)\n",
    "    print(\"Output Tensor:\", output_tensors[0])\n",
    "    print('------------------------------------------------------------------------------------------------------------')\n",
    "    print(\"\\n\")"
   ]
  },
  {
   "cell_type": "markdown",
   "metadata": {},
   "source": [
    "### Test data loader"
   ]
  },
  {
   "cell_type": "code",
   "execution_count": 18,
   "metadata": {},
   "outputs": [
    {
     "name": "stdout",
     "output_type": "stream",
     "text": [
      "\u001b[1mTesting Batch number-----> 1\u001b[0m\n",
      "Input Language: opportunities for study or research abroad as well as exchange programs are managed by the individual schools and programs \n",
      "Input Tensor Shape: torch.Size([21])\n",
      "Input Tensor: tensor([137,  23,  27, 213,  32, 202,  52, 214,  52, 203,  26, 144, 215, 216,\n",
      "         20, 217,  17,  14,  26,  18,   1])\n",
      "Output Language: विदेशों में अध्ययन या अनुसंधान के अवसरों के साथ-साथ विनिमय कार्यक्रमों का प्रबंधन व्यक्तिगत स्कूलों और कार्यक्रमों द्वारा किया जाता है।\n",
      "Output Tensor Shape: torch.Size([22])\n",
      "Output Tensor: tensor([238,  30,  22, 239,  28,  14, 240,  14, 241, 225,  23,  53, 164, 242,\n",
      "         13,  10,  23, 243, 244, 245,  21,   1])\n",
      "------------------------------------------------------------------------------------------------------------\n",
      "\n",
      "\n",
      "\u001b[1mTesting Batch number-----> 2\u001b[0m\n",
      "Input Language: yale offers significant financial assistance to international students to cover tuition costs as it does with students from the u s \n",
      "Input Tensor Shape: torch.Size([23])\n",
      "Input Tensor: tensor([  2,   3, 302, 287, 220,  35, 164, 142,  35, 303, 304, 305,  52, 306,\n",
      "        307, 211, 142, 238,  20, 308,  38,  18,   1])\n",
      "Output Language: येल अंतरराष्ट्रीय छात्रों को ट्यूशन की लागत को कवर करने के लिए महत्वपूर्ण वित्तीय सहायता प्रदान करता है जैसा कि यह यू एस  के छात्रों के साथ करता है।\n",
      "Output Tensor Shape: torch.Size([31])\n",
      "Output Tensor: tensor([  2, 195, 261,  37, 339, 129, 340,  37, 341, 117,  14,  32, 342, 323,\n",
      "        249,  19,  20, 106, 343, 344, 345, 346, 347, 348,  14, 261,  14, 235,\n",
      "         20,  21,   1])\n",
      "------------------------------------------------------------------------------------------------------------\n",
      "\n",
      "\n"
     ]
    }
   ],
   "source": [
    "for batch_index, packed in enumerate(test_loader):\n",
    "    input_tensors, output_tensors, input_language, out_language = packed\n",
    "    print(\"\\033[1mTesting Batch number-----> {}\\033[0m\".format(batch_index+1))\n",
    "    # print the first input and output tensors along with their respective languages\n",
    "    print(\"Input Language:\", input_language[0])\n",
    "    print(\"Input Tensor Shape:\", input_tensors[0].shape)\n",
    "    print(\"Input Tensor:\", input_tensors[0])\n",
    "    \n",
    "    print(\"Output Language:\", out_language[0])\n",
    "    print(\"Output Tensor Shape:\", output_tensors[0].shape)\n",
    "    print(\"Output Tensor:\", output_tensors[0])\n",
    "    print('------------------------------------------------------------------------------------------------------------')\n",
    "    print(\"\\n\")"
   ]
  },
  {
   "cell_type": "markdown",
   "metadata": {},
   "source": [
    "### Validation data loader"
   ]
  },
  {
   "cell_type": "code",
   "execution_count": 19,
   "metadata": {},
   "outputs": [
    {
     "name": "stdout",
     "output_type": "stream",
     "text": [
      "\u001b[1mValidation Batch number-----> 1\u001b[0m\n",
      "Input Language: the jackson school of global affairs trains and equips a new generation of leaders to devise thoughtful , evidence-based solutions for challenging global problems \n",
      "Input Tensor Shape: torch.Size([26])\n",
      "Input Tensor: tensor([ 20, 114,   9,  10, 102, 115, 116,  14, 117,  37, 118, 119,  10,  72,\n",
      "         35, 120, 121,  28, 122, 123,  23, 124, 102, 104,  18,   1])\n",
      "Output Language: जैक्सन स्कूल ऑफ ग्लोबल अफेयर्स चुनौतीपूर्ण वैश्विक समस्याओं के लिए विचारशील , साक्ष्य-आधारित समाधान तैयार करने के लिए नेताओं की एक नई पीढ़ी को प्रशिक्षित और सुसज्जित करता है।\n",
      "Output Tensor Shape: torch.Size([30])\n",
      "Output Tensor: tensor([135,   5,   6, 136, 138, 139, 113, 115,  14,  32, 140,  24, 141, 116,\n",
      "        142, 117,  14,  32,  82, 129,  57, 143, 144,  37, 145,  10, 146,  20,\n",
      "         21,   1])\n",
      "------------------------------------------------------------------------------------------------------------\n",
      "\n",
      "\n",
      "\u001b[1mValidation Batch number-----> 2\u001b[0m\n",
      "Input Language: today , yale welcomes the largest international community in its history , with a current enrollment of 2 ,841 international students from 121 countries \n",
      "Input Tensor Shape: torch.Size([26])\n",
      "Input Tensor: tensor([260,  28,   2, 261,  20, 262, 164, 171,  42,   7,  62,  28, 211,  37,\n",
      "        263, 264,  10, 265, 266, 164, 142, 238, 267, 268,  18,   1])\n",
      "Output Language: आज , येल 121 देशों के 2 ,841 अंतर्राष्ट्रीय छात्रों के वर्तमान नामांकन के साथ , अपने इतिहास में सबसे बड़े अंतरराष्ट्रीय समुदाय का स्वागत करता है।\n",
      "Output Tensor Shape: torch.Size([28])\n",
      "Output Tensor: tensor([299,  24,   2, 300, 301,  14, 302, 303, 292, 261,  14, 304, 305,  14,\n",
      "        235,  24,   3,  74,  30, 306, 307, 195, 308,  53, 309,  20,  21,   1])\n",
      "------------------------------------------------------------------------------------------------------------\n",
      "\n",
      "\n"
     ]
    }
   ],
   "source": [
    "for batch_index, packed in enumerate(val_loader):\n",
    "    input_tensors, output_tensors, input_language, out_language = packed\n",
    "    print(\"\\033[1mValidation Batch number-----> {}\\033[0m\".format(batch_index+1))\n",
    "    # print the first input and output tensors along with their respective languages\n",
    "    print(\"Input Language:\", input_language[0])\n",
    "    print(\"Input Tensor Shape:\", input_tensors[0].shape)\n",
    "    print(\"Input Tensor:\", input_tensors[0])\n",
    "    \n",
    "    print(\"Output Language:\", out_language[0])\n",
    "    print(\"Output Tensor Shape:\", output_tensors[0].shape)\n",
    "    print(\"Output Tensor:\", output_tensors[0])\n",
    "    print('------------------------------------------------------------------------------------------------------------')\n",
    "    print(\"\\n\")"
   ]
  }
 ],
 "metadata": {
  "kernelspec": {
   "display_name": "Python 3 (ipykernel)",
   "language": "python",
   "name": "python3"
  },
  "language_info": {
   "codemirror_mode": {
    "name": "ipython",
    "version": 3
   },
   "file_extension": ".py",
   "mimetype": "text/x-python",
   "name": "python",
   "nbconvert_exporter": "python",
   "pygments_lexer": "ipython3",
   "version": "3.8.5"
  }
 },
 "nbformat": 4,
 "nbformat_minor": 4
}
